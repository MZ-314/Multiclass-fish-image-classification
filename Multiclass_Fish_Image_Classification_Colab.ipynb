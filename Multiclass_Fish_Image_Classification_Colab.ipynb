{
 "cells": [
  {
   "cell_type": "code",
   "execution_count": null,
   "id": "529fff33",
   "metadata": {},
   "outputs": [],
   "source": [
    "!pip install -q tensorflow==2.14.0 streamlit seaborn scikit-learn\n",
    "\n",
    "import os, json, shutil\n",
    "from pathlib import Path\n",
    "import numpy as np\n",
    "import matplotlib.pyplot as plt\n",
    "import tensorflow as tf\n",
    "from tensorflow import keras\n",
    "from tensorflow.keras import layers\n",
    "from tensorflow.keras.preprocessing.image import ImageDataGenerator\n",
    "\n",
    "print('TensorFlow', tf.__version__)\n"
   ]
  },
  {
   "cell_type": "code",
   "execution_count": null,
   "id": "1dd05211",
   "metadata": {},
   "outputs": [],
   "source": [
    "from google.colab import drive\n",
    "drive.mount('/content/drive')\n"
   ]
  },
  {
   "cell_type": "code",
   "execution_count": null,
   "id": "9e4b7ab9",
   "metadata": {},
   "outputs": [],
   "source": [
    "BASE_DIR = '/content/drive/MyDrive/fish_classification'  # change if you want\n",
    "DATA_DIR = os.path.join(BASE_DIR, 'data')\n",
    "MODEL_DIR = os.path.join(BASE_DIR, 'saved_models')\n",
    "RESULTS_DIR = os.path.join(BASE_DIR, 'results')\n",
    "os.makedirs(MODEL_DIR, exist_ok=True)\n",
    "os.makedirs(RESULTS_DIR, exist_ok=True)\n"
   ]
  },
  {
   "cell_type": "code",
   "execution_count": null,
   "id": "9d202d53",
   "metadata": {},
   "outputs": [],
   "source": [
    "# TODO: Upload or unzip dataset into DATA_DIR/train, DATA_DIR/val, DATA_DIR/test"
   ]
  },
  {
   "cell_type": "code",
   "execution_count": null,
   "id": "c1005be6",
   "metadata": {},
   "outputs": [],
   "source": [
    "IMG_SIZE = (224,224)\n",
    "BATCH_SIZE = 32\n",
    "EPOCHS = 20\n",
    "LR = 1e-4\n",
    "SEED = 42\n"
   ]
  },
  {
   "cell_type": "code",
   "execution_count": null,
   "id": "7a3c91de",
   "metadata": {},
   "outputs": [],
   "source": [
    "train_dir = os.path.join(DATA_DIR, 'train')\n",
    "val_dir = os.path.join(DATA_DIR, 'val')\n",
    "test_dir = os.path.join(DATA_DIR, 'test')\n",
    "\n",
    "train_datagen = ImageDataGenerator(rescale=1./255,\n",
    "                                   rotation_range=25,\n",
    "                                   width_shift_range=0.12,\n",
    "                                   height_shift_range=0.12,\n",
    "                                   shear_range=0.12,\n",
    "                                   zoom_range=0.12,\n",
    "                                   horizontal_flip=True,\n",
    "                                   fill_mode='nearest')\n",
    "\n",
    "test_datagen = ImageDataGenerator(rescale=1./255)\n",
    "\n",
    "train_gen = train_datagen.flow_from_directory(train_dir, target_size=IMG_SIZE, batch_size=BATCH_SIZE, class_mode='categorical', seed=SEED)\n",
    "val_gen = test_datagen.flow_from_directory(val_dir, target_size=IMG_SIZE, batch_size=BATCH_SIZE, class_mode='categorical', shuffle=False, seed=SEED)\n",
    "test_gen = test_datagen.flow_from_directory(test_dir, target_size=IMG_SIZE, batch_size=BATCH_SIZE, class_mode='categorical', shuffle=False, seed=SEED)\n"
   ]
  },
  {
   "cell_type": "code",
   "execution_count": null,
   "id": "a54fc0b7",
   "metadata": {},
   "outputs": [],
   "source": [
    "base = keras.applications.MobileNetV2(include_top=False, weights='imagenet', input_shape=(IMG_SIZE[0], IMG_SIZE[1], 3))\n",
    "base.trainable = False\n",
    "inputs = keras.Input(shape=(IMG_SIZE[0], IMG_SIZE[1], 3))\n",
    "x = base(inputs, training=False)\n",
    "x = layers.GlobalAveragePooling2D()(x)\n",
    "x = layers.Dropout(0.3)(x)\n",
    "x = layers.Dense(256, activation='relu')(x)\n",
    "x = layers.Dropout(0.25)(x)\n",
    "outputs = layers.Dense(len(train_gen.class_indices), activation='softmax')(x)\n",
    "model = keras.Model(inputs, outputs)\n",
    "\n",
    "model.compile(optimizer=keras.optimizers.Adam(LR), loss='categorical_crossentropy', metrics=['accuracy'])\n",
    "model.summary()\n"
   ]
  },
  {
   "cell_type": "code",
   "execution_count": null,
   "id": "900e2a26",
   "metadata": {},
   "outputs": [],
   "source": [
    "ckpt = os.path.join(MODEL_DIR, 'mobilenetv2_best.h5')\n",
    "callbacks = [\n",
    "    keras.callbacks.ModelCheckpoint(ckpt, monitor='val_accuracy', save_best_only=True),\n",
    "    keras.callbacks.EarlyStopping(monitor='val_loss', patience=5, restore_best_weights=True),\n",
    "    keras.callbacks.ReduceLROnPlateau(monitor='val_loss', factor=0.5, patience=3)\n",
    "]\n",
    "\n",
    "history = model.fit(train_gen, validation_data=val_gen, epochs=EPOCHS, callbacks=callbacks)\n"
   ]
  },
  {
   "cell_type": "code",
   "execution_count": null,
   "id": "9fe9aabf",
   "metadata": {},
   "outputs": [],
   "source": [
    "with open(os.path.join(MODEL_DIR, 'class_indices.json'), 'w') as f:\n",
    "    json.dump(train_gen.class_indices, f)\n",
    "\n",
    "plt.figure(figsize=(10,4))\n",
    "plt.subplot(1,2,1)\n",
    "plt.plot(history.history['accuracy'], label='train_acc')\n",
    "plt.plot(history.history['val_accuracy'], label='val_acc')\n",
    "plt.legend()\n",
    "plt.title('Accuracy')\n",
    "plt.subplot(1,2,2)\n",
    "plt.plot(history.history['loss'], label='train_loss')\n",
    "plt.plot(history.history['val_loss'], label='val_loss')\n",
    "plt.legend()\n",
    "plt.title('Loss')\n",
    "plt.show()\n"
   ]
  },
  {
   "cell_type": "code",
   "execution_count": null,
   "id": "0d18f65a",
   "metadata": {},
   "outputs": [],
   "source": [
    "best = keras.models.load_model(ckpt)\n",
    "steps = int(np.ceil(test_gen.samples / test_gen.batch_size))\n",
    "preds = best.predict(test_gen, steps=steps)\n",
    "y_pred = preds.argmax(axis=1)\n",
    "from sklearn.metrics import classification_report, confusion_matrix\n",
    "print(classification_report(test_gen.classes, y_pred, target_names=list(train_gen.class_indices.keys())))\n"
   ]
  },
  {
   "cell_type": "code",
   "execution_count": null,
   "id": "996ae64e",
   "metadata": {},
   "outputs": [],
   "source": [
    "app_code = \"\"\"\n",
    "# Streamlit app for Multiclass Fish Image Classification\n",
    "import streamlit as st\n",
    "from tensorflow import keras\n",
    "from PIL import Image\n",
    "import numpy as np\n",
    "import json\n",
    "import os\n",
    "\n",
    "MODEL_PATH = 'saved_models/mobilenetv2_best.h5'\n",
    "\n",
    "@st.cache(allow_output_mutation=True)\n",
    "def load_model(path):\n",
    "    return keras.models.load_model(path)\n",
    "\n",
    "if os.path.exists(MODEL_PATH):\n",
    "    model = load_model(MODEL_PATH)\n",
    "    with open('saved_models/class_indices.json','r') as f:\n",
    "        class_map = json.load(f)\n",
    "    inv_map = {int(v):k for k,v in class_map.items()}\n",
    "else:\n",
    "    st.stop()\n",
    "\n",
    "st.title('🐟 Fish Species Classifier')\n",
    "uploaded = st.file_uploader('Upload an image', type=['jpg','jpeg','png'])\n",
    "if uploaded:\n",
    "    img = Image.open(uploaded).convert('RGB')\n",
    "    st.image(img,use_column_width=True)\n",
    "    img = img.resize((224,224))\n",
    "    arr = np.array(img)/255.0\n",
    "    preds = model.predict(np.expand_dims(arr,0))[0]\n",
    "    idx = preds.argmax()\n",
    "    st.success(f'Prediction: {inv_map[idx]} — {preds[idx]:.2f}')\n",
    "    st.write({inv_map[i]: float(p) for i,p in enumerate(preds)})\n",
    "\"\"\"\n",
    "\n",
    "with open(os.path.join(BASE_DIR,'app_streamlit.py'),'w') as f:\n",
    "    f.write(app_code)\n",
    "\n",
    "print('Streamlit app saved to', os.path.join(BASE_DIR,'app_streamlit.py'))\n"
   ]
  }
 ],
 "metadata": {
  "kernelspec": {
   "display_name": "Python 3",
   "name": "python3"
  },
  "language_info": {
   "name": "python"
  }
 },
 "nbformat": 4,
 "nbformat_minor": 5
}
